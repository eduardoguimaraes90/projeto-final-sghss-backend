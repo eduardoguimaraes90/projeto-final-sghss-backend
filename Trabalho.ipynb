{
  "nbformat": 4,
  "nbformat_minor": 0,
  "metadata": {
    "colab": {
      "provenance": [],
      "authorship_tag": "ABX9TyOqaZ1z29dlChCgmf2hoC1i",
      "include_colab_link": true
    },
    "kernelspec": {
      "name": "python3",
      "display_name": "Python 3"
    },
    "language_info": {
      "name": "python"
    }
  },
  "cells": [
    {
      "cell_type": "markdown",
      "metadata": {
        "id": "view-in-github",
        "colab_type": "text"
      },
      "source": [
        "<a href=\"https://colab.research.google.com/github/eduardoguimaraes90/projeto-final-sghss-backend/blob/main/Trabalho.ipynb\" target=\"_parent\"><img src=\"https://colab.research.google.com/assets/colab-badge.svg\" alt=\"Open In Colab\"/></a>"
      ]
    },
    {
      "cell_type": "code",
      "execution_count": 1,
      "metadata": {
        "colab": {
          "base_uri": "https://localhost:8080/"
        },
        "id": "qJyofaPLko2P",
        "outputId": "02eae542-71db-4f5c-8531-2388b7c29c38"
      },
      "outputs": [
        {
          "output_type": "stream",
          "name": "stdout",
          "text": [
            "Requirement already satisfied: fastapi in /usr/local/lib/python3.11/dist-packages (0.115.13)\n",
            "Requirement already satisfied: uvicorn in /usr/local/lib/python3.11/dist-packages (0.34.3)\n",
            "Requirement already satisfied: pyngrok in /usr/local/lib/python3.11/dist-packages (7.2.11)\n",
            "Requirement already satisfied: nest-asyncio in /usr/local/lib/python3.11/dist-packages (1.6.0)\n",
            "Requirement already satisfied: starlette<0.47.0,>=0.40.0 in /usr/local/lib/python3.11/dist-packages (from fastapi) (0.46.2)\n",
            "Requirement already satisfied: pydantic!=1.8,!=1.8.1,!=2.0.0,!=2.0.1,!=2.1.0,<3.0.0,>=1.7.4 in /usr/local/lib/python3.11/dist-packages (from fastapi) (1.10.22)\n",
            "Requirement already satisfied: typing-extensions>=4.8.0 in /usr/local/lib/python3.11/dist-packages (from fastapi) (4.14.0)\n",
            "Requirement already satisfied: click>=7.0 in /usr/local/lib/python3.11/dist-packages (from uvicorn) (8.2.1)\n",
            "Requirement already satisfied: h11>=0.8 in /usr/local/lib/python3.11/dist-packages (from uvicorn) (0.16.0)\n",
            "Requirement already satisfied: PyYAML>=5.1 in /usr/local/lib/python3.11/dist-packages (from pyngrok) (6.0.2)\n",
            "Requirement already satisfied: anyio<5,>=3.6.2 in /usr/local/lib/python3.11/dist-packages (from starlette<0.47.0,>=0.40.0->fastapi) (4.9.0)\n",
            "Requirement already satisfied: idna>=2.8 in /usr/local/lib/python3.11/dist-packages (from anyio<5,>=3.6.2->starlette<0.47.0,>=0.40.0->fastapi) (3.10)\n",
            "Requirement already satisfied: sniffio>=1.1 in /usr/local/lib/python3.11/dist-packages (from anyio<5,>=3.6.2->starlette<0.47.0,>=0.40.0->fastapi) (1.3.1)\n"
          ]
        }
      ],
      "source": [
        "# Instalações\n",
        "!pip install fastapi uvicorn pyngrok nest-asyncio"
      ]
    },
    {
      "cell_type": "code",
      "source": [
        "# Escreve o arquivo main.py com a API completa\n",
        "%%writefile main.py\n",
        "\n",
        "from fastapi import FastAPI, Depends, HTTPException, status\n",
        "from pydantic import BaseModel\n",
        "from sqlalchemy import create_engine, Column, Integer, String, DateTime\n",
        "from sqlalchemy.orm import sessionmaker, Session\n",
        "from sqlalchemy.ext.declarative import declarative_base\n",
        "from datetime import datetime\n",
        "from typing import List\n",
        "\n",
        "# --- Configuração do Banco de Dados (SQLite) ---\n",
        "SQLALCHEMY_DATABASE_URL = \"sqlite:///./sghss_vidaplus.db\"\n",
        "engine = create_engine(SQLALCHEMY_DATABASE_URL, connect_args={\"check_same_thread\": False})\n",
        "SessionLocal = sessionmaker(autocommit=False, autoflush=False, bind=engine)\n",
        "Base = declarative_base()\n",
        "\n",
        "# --- Modelos do Banco de Dados (Tabelas) ---\n",
        "\n",
        "class PacienteDB(Base):\n",
        "    __tablename__ = \"pacientes\"\n",
        "    id = Column(Integer, primary_key=True, index=True)\n",
        "    nome = Column(String, index=True)\n",
        "    cpf = Column(String, unique=True, index=True)\n",
        "\n",
        "class ConsultaDB(Base):\n",
        "    __tablename__ = \"consultas\"\n",
        "    id = Column(Integer, primary_key=True, index=True)\n",
        "    paciente_id = Column(Integer, index=True)\n",
        "    profissional_id = Column(Integer, index=True)\n",
        "    data_hora = Column(DateTime, index=True)\n",
        "    status = Column(String, default=\"Confirmado\")\n",
        "\n",
        "# Cria TODAS as tabelas no banco de dados\n",
        "Base.metadata.create_all(bind=engine)\n",
        "\n",
        "# --- Schemas (Modelos de Dados da API) ---\n",
        "\n",
        "# Schemas para Paciente\n",
        "class PacienteCreate(BaseModel):\n",
        "    nome: str\n",
        "    cpf: str\n",
        "\n",
        "class PacienteRead(PacienteCreate):\n",
        "    id: int\n",
        "    class Config:\n",
        "        orm_mode = True\n",
        "\n",
        "# Schemas para Agendamento\n",
        "class AgendamentoCreate(BaseModel):\n",
        "    paciente_id: int\n",
        "    profissional_id: int\n",
        "    data_hora: datetime\n",
        "\n",
        "class AgendamentoRead(AgendamentoCreate):\n",
        "    id: int\n",
        "    status: str\n",
        "    class Config:\n",
        "        orm_mode = True\n",
        "\n",
        "# --- Lógica da API ---\n",
        "app = FastAPI(title=\"SGHSS VidaPlus - Protótipo Completo\")\n",
        "\n",
        "def get_db():\n",
        "    db = SessionLocal()\n",
        "    try:\n",
        "        yield db\n",
        "    finally:\n",
        "        db.close()\n",
        "\n",
        "# --- ENDPOINTS DE PACIENTES ---\n",
        "\n",
        "@app.post(\"/pacientes/\", response_model=PacienteRead, status_code=status.HTTP_201_CREATED)\n",
        "def criar_paciente(paciente: PacienteCreate, db: Session = Depends(get_db)):\n",
        "    db_paciente_existente = db.query(PacienteDB).filter(PacienteDB.cpf == paciente.cpf).first()\n",
        "    if db_paciente_existente:\n",
        "        raise HTTPException(status_code=409, detail=\"Paciente com este CPF já cadastrado.\")\n",
        "\n",
        "    db_paciente = PacienteDB(**paciente.dict())\n",
        "    db.add(db_paciente)\n",
        "    db.commit()\n",
        "    db.refresh(db_paciente)\n",
        "    return db_paciente\n",
        "\n",
        "@app.get(\"/pacientes/\", response_model=List[PacienteRead])\n",
        "def listar_pacientes(db: Session = Depends(get_db)):\n",
        "    pacientes = db.query(PacienteDB).all()\n",
        "    return pacientes\n",
        "\n",
        "\n",
        "# --- ENDPOINTS DE AGENDAMENTOS ---\n",
        "\n",
        "@app.post(\"/agendamentos/\", response_model=AgendamentoRead, status_code=status.HTTP_201_CREATED)\n",
        "def criar_agendamento(agendamento: AgendamentoCreate, db: Session = Depends(get_db)):\n",
        "    # Validação: Verifica se o paciente existe\n",
        "    paciente = db.query(PacienteDB).filter(PacienteDB.id == agendamento.paciente_id).first()\n",
        "    if not paciente:\n",
        "        raise HTTPException(status_code=404, detail=f\"Paciente com ID {agendamento.paciente_id} não encontrado.\")\n",
        "\n",
        "    # Validação de conflito de horário\n",
        "    conflito = db.query(ConsultaDB).filter(\n",
        "        ConsultaDB.profissional_id == agendamento.profissional_id,\n",
        "        ConsultaDB.data_hora == agendamento.data_hora\n",
        "    ).first()\n",
        "    if conflito:\n",
        "        raise HTTPException(status_code=409, detail=\"Horário indisponível para este profissional.\")\n",
        "\n",
        "    db_agendamento = ConsultaDB(**agendamento.dict())\n",
        "    db.add(db_agendamento)\n",
        "    db.commit()\n",
        "    db.refresh(db_agendamento)\n",
        "    return db_agendamento"
      ],
      "metadata": {
        "colab": {
          "base_uri": "https://localhost:8080/"
        },
        "id": "iDRdEhTUqG_N",
        "outputId": "32c8036e-3351-4036-a7f8-921d356269ae"
      },
      "execution_count": 2,
      "outputs": [
        {
          "output_type": "stream",
          "name": "stdout",
          "text": [
            "Overwriting main.py\n"
          ]
        }
      ]
    },
    {
      "cell_type": "code",
      "source": [
        "# Célula 3: Iniciar o Servidor e Expor com ngrok (VERSÃO SEGURA PARA GITHUB)\n",
        "import nest_asyncio\n",
        "from pyngrok import ngrok\n",
        "import uvicorn\n",
        "from google.colab import userdata # Importa a biblioteca para ler segredos\n",
        "\n",
        "# --- Autenticação Segura do ngrok ---\n",
        "# Lê o token a partir dos \"Secrets\" do Colab. O código pode ser público!\n",
        "try:\n",
        "    NGROK_AUTHTOKEN = userdata.get('NGROK_AUTHTOKEN')\n",
        "    ngrok.set_auth_token(NGROK_AUTHTOKEN)\n",
        "except userdata.SecretNotFoundError:\n",
        "    print(\"ERRO: Segredo 'NGROK_AUTHTOKEN' não encontrado.\")\n",
        "    print(\"Por favor, adicione seu token do ngrok nos Segredos (ícone de chave 🔑) para continuar.\")\n",
        "# ---------------------------------------------\n",
        "\n",
        "nest_asyncio.apply()\n",
        "port = 8000\n",
        "ngrok.kill()\n",
        "public_url = ngrok.connect(port, \"http\")\n",
        "print(f\"✅ API está rodando e acessível em: {public_url}\")\n",
        "\n",
        "# Inicia o servidor uvicorn\n",
        "uvicorn.run(\"main:app\", host=\"0.0.0.0\", port=port, log_level=\"info\")"
      ],
      "metadata": {
        "colab": {
          "base_uri": "https://localhost:8080/"
        },
        "id": "ZJM6Kk5YqSpM",
        "outputId": "e2040dd0-ee11-41d0-b94e-1e58fcf85e24"
      },
      "execution_count": 3,
      "outputs": [
        {
          "output_type": "stream",
          "name": "stdout",
          "text": [
            "✅ API está rodando e acessível em: NgrokTunnel: \"https://8742-35-230-122-24.ngrok-free.app\" -> \"http://localhost:8000\"\n"
          ]
        },
        {
          "output_type": "stream",
          "name": "stderr",
          "text": [
            "INFO:     Started server process [81330]\n",
            "INFO:     Waiting for application startup.\n",
            "INFO:     Application startup complete.\n",
            "INFO:     Uvicorn running on http://0.0.0.0:8000 (Press CTRL+C to quit)\n"
          ]
        },
        {
          "output_type": "stream",
          "name": "stdout",
          "text": [
            "INFO:     131.255.178.148:0 - \"GET / HTTP/1.1\" 404 Not Found\n",
            "INFO:     131.255.178.148:0 - \"GET /favicon.ico HTTP/1.1\" 404 Not Found\n",
            "INFO:     131.255.178.148:0 - \"GET /docs HTTP/1.1\" 200 OK\n",
            "INFO:     131.255.178.148:0 - \"GET /openapi.json HTTP/1.1\" 200 OK\n",
            "INFO:     131.255.178.148:0 - \"GET /pacientes/ HTTP/1.1\" 200 OK\n"
          ]
        },
        {
          "output_type": "stream",
          "name": "stderr",
          "text": [
            "INFO:     Shutting down\n",
            "INFO:     Waiting for application shutdown.\n",
            "INFO:     Application shutdown complete.\n",
            "INFO:     Finished server process [81330]\n"
          ]
        }
      ]
    }
  ]
}